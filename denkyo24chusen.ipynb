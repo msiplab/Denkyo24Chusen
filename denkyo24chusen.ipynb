{
  "cells": [
    {
      "cell_type": "markdown",
      "metadata": {
        "id": "view-in-github",
        "colab_type": "text"
      },
      "source": [
        "<a href=\"https://colab.research.google.com/github/msiplab/Denkyo24Chusen/blob/main/denkyo24chusen.ipynb\" target=\"_parent\"><img src=\"https://colab.research.google.com/assets/colab-badge.svg\" alt=\"Open In Colab\"/></a>"
      ]
    },
    {
      "cell_type": "markdown",
      "metadata": {
        "id": "UwAY6pyZzvUG"
      },
      "source": [
        "令和６年度　幹事大学／オーガナイザ校　抽選プログラム\n"
      ]
    },
    {
      "cell_type": "code",
      "execution_count": 4,
      "metadata": {
        "colab": {
          "base_uri": "https://localhost:8080/"
        },
        "id": "Zol21PvtxXXz",
        "outputId": "7969516d-d093-4791-eb0f-48c38160d092"
      },
      "outputs": [
        {
          "output_type": "stream",
          "name": "stdout",
          "text": [
            "～　抽選結果　～\n",
            "　幹事大学　　　　：　M\n",
            "  オーガナイザ校１：　B\n",
            "  オーガナイザ校２：　K\n"
          ]
        }
      ],
      "source": [
        "import numpy as np\n",
        "\n",
        "# モード選択：デモ／本番\n",
        "isDemo = True\n",
        "\n",
        "# 抽選大学リスト\n",
        "if isDemo:\n",
        "  candidates = [ \"A\",\"B\",\"C\",\"D\",\"E\",\"F\",\"G\",\"H\",\"I\",\"J\",\"K\",\"L\",\"M\",\"N\" ]\n",
        "else:\n",
        "  candidates = [\n",
        "      \"工学院大学\",\n",
        "      \"国士舘大学\",\n",
        "      \"東京都立大学\",\n",
        "      \"創価大学大学院\",\n",
        "      \"中央大学\",\n",
        "      \"東京工業大学\",\n",
        "      \"東京大学 大学院\",\n",
        "      \"東京電機大学\",\n",
        "      \"東京都市大学\",\n",
        "      \"東京農工大学\",\n",
        "      # \"東京理科大学\", # 2002年幹事\n",
        "      \"日本大学\",\n",
        "      \"法政大学\",\n",
        "      \"明星大学\",\n",
        "      \"早稲田大学\"\n",
        "    ]\n",
        "# 抽選処理\n",
        "val = np.random.random(len(candidates))\n",
        "idx = np.argsort(val)\n",
        "# 結果表示\n",
        "print(\"～　抽選結果　～\")\n",
        "print(\"　幹事大学　　　　：　\" + candidates[idx[1]])\n",
        "print(\"  オーガナイザ校１：　\" + candidates[idx[2]])\n",
        "print(\"  オーガナイザ校２：　\" + candidates[idx[3]])\n"
      ]
    },
    {
      "cell_type": "markdown",
      "metadata": {
        "id": "OrppjjK6Jg0d"
      },
      "source": [
        "東京大学大学院　窓口抽選"
      ]
    },
    {
      "cell_type": "code",
      "execution_count": 5,
      "metadata": {
        "colab": {
          "base_uri": "https://localhost:8080/"
        },
        "id": "PRtn1bf6Jles",
        "outputId": "4141b488-a7f8-4f51-be7b-f20276003963"
      },
      "outputs": [
        {
          "output_type": "stream",
          "name": "stdout",
          "text": [
            "～　抽選結果　～\n",
            "　東京大学大学院　窓口教室：　A\n"
          ]
        }
      ],
      "source": [
        "# モード選択：デモ／本番\n",
        "isDemo = True\n",
        "\n",
        "# 幹事大学　窓口教室リスト\n",
        "if isDemo:\n",
        "  candidates = [ \"A\", \"B\" ]\n",
        "else:\n",
        "  candidates = [\n",
        "      \"工学研究科　電気系工学専攻\",\n",
        "      \"情報理工学系研究科　電子情報学専攻\"\n",
        "    ]\n",
        "# 抽選処理\n",
        "val = np.random.random(len(candidates))\n",
        "idx = np.argsort(val)\n",
        "# 結果表示\n",
        "print(\"～　抽選結果　～\")\n",
        "print(\"　東京大学大学院　窓口教室：　\" + candidates[idx[1]])"
      ]
    },
    {
      "cell_type": "markdown",
      "metadata": {
        "id": "8fkfzGjNKCqa"
      },
      "source": [
        "東京電機大学工学部　窓口抽選"
      ]
    },
    {
      "cell_type": "code",
      "execution_count": 6,
      "metadata": {
        "colab": {
          "base_uri": "https://localhost:8080/"
        },
        "id": "rpDFphuOKCqa",
        "outputId": "a5c78ba8-ea17-42b6-863f-6c74d7faf062"
      },
      "outputs": [
        {
          "output_type": "stream",
          "name": "stdout",
          "text": [
            "～　抽選結果　～\n",
            "　東京電機大学工学部　窓口教室：　B\n"
          ]
        }
      ],
      "source": [
        "# モード選択：デモ／本番\n",
        "isDemo = True\n",
        "\n",
        "# オーガナイザ校１　窓口教室リスト\n",
        "if isDemo:\n",
        "  candidates = [ \"A\", \"B\" ]\n",
        "else:\n",
        "  candidates = [\n",
        "      \"情報通信工学科\",\n",
        "      \"電気電子工学科\"\n",
        "    ]\n",
        "# 抽選処理\n",
        "val = np.random.random(len(candidates))\n",
        "idx = np.argsort(val)\n",
        "# 結果表示\n",
        "print(\"～　抽選結果　～\")\n",
        "print(\"　東京電機大学工学部　窓口教室：　\" + candidates[idx[1]])\n"
      ]
    },
    {
      "cell_type": "markdown",
      "metadata": {
        "id": "kpchadijKqlp"
      },
      "source": [
        "東京理科大学　窓口抽選"
      ]
    },
    {
      "cell_type": "code",
      "execution_count": 7,
      "metadata": {
        "colab": {
          "base_uri": "https://localhost:8080/"
        },
        "id": "PzAP4zjrKqlp",
        "outputId": "cd70a1bd-2a1d-4210-8155-127121b9b5b3"
      },
      "outputs": [
        {
          "output_type": "stream",
          "name": "stdout",
          "text": [
            "～　抽選結果　～\n",
            "　東京理科大学　窓口教室：　A\n"
          ]
        }
      ],
      "source": [
        "# モード選択：デモ／本番\n",
        "isDemo = True\n",
        "\n",
        "# オーガナイザ校２　窓口教室リスト\n",
        "if isDemo:\n",
        "  candidates = [ \"A\", \"B\" ]\n",
        "else:\n",
        "  candidates = [\n",
        "      \"先進工学部　電子システム工学科\",\n",
        "      \"工学部　電気工学科\"\n",
        "    ]\n",
        "# 抽選処理\n",
        "val = np.random.random(len(candidates))\n",
        "idx = np.argsort(val)\n",
        "# 結果表示\n",
        "print(\"～　抽選結果　～\")\n",
        "print(\"　東京理科大学　窓口教室：　\" + candidates[idx[1]])\n"
      ]
    }
  ],
  "metadata": {
    "colab": {
      "provenance": [],
      "authorship_tag": "ABX9TyPFp4Tl1bxGPJPhLu5qFp/E",
      "include_colab_link": true
    },
    "kernelspec": {
      "display_name": "Python 3",
      "name": "python3"
    },
    "language_info": {
      "codemirror_mode": {
        "name": "ipython",
        "version": 3
      },
      "file_extension": ".py",
      "mimetype": "text/x-python",
      "name": "python",
      "nbconvert_exporter": "python",
      "pygments_lexer": "ipython3",
      "version": "3.10.5"
    }
  },
  "nbformat": 4,
  "nbformat_minor": 0
}